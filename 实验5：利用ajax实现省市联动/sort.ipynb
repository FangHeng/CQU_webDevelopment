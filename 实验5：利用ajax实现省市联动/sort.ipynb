{
 "cells": [
  {
   "cell_type": "code",
   "execution_count": 1,
   "metadata": {
    "collapsed": true,
    "ExecuteTime": {
     "end_time": "2023-10-18T11:58:19.163837Z",
     "start_time": "2023-10-18T11:58:19.008418Z"
    }
   },
   "outputs": [],
   "source": [
    "import json\n",
    "import pypinyin\n",
    "\n",
    "# 加载 JSON 数据\n",
    "with open('cityData_unsorted.json', 'r', encoding='utf-8') as f:\n",
    "    data = json.load(f)\n",
    "\n",
    "# 定义一个函数，用于获取省份名称的拼音\n",
    "def get_pinyin(province):\n",
    "    return pypinyin.lazy_pinyin(province['n'], style=pypinyin.Style.FIRST_LETTER)\n",
    "\n",
    "# 使用 sorted 函数进行排序\n",
    "sorted_data = sorted(data, key=get_pinyin)\n",
    "\n",
    "# 保存排序后的数据\n",
    "with open('cityData.json', 'w', encoding='utf-8') as f:\n",
    "    json.dump(sorted_data, f, ensure_ascii=False, indent=2)\n"
   ]
  },
  {
   "cell_type": "code",
   "execution_count": null,
   "outputs": [],
   "source": [],
   "metadata": {
    "collapsed": false
   }
  }
 ],
 "metadata": {
  "kernelspec": {
   "display_name": "Python 3",
   "language": "python",
   "name": "python3"
  },
  "language_info": {
   "codemirror_mode": {
    "name": "ipython",
    "version": 2
   },
   "file_extension": ".py",
   "mimetype": "text/x-python",
   "name": "python",
   "nbconvert_exporter": "python",
   "pygments_lexer": "ipython2",
   "version": "2.7.6"
  }
 },
 "nbformat": 4,
 "nbformat_minor": 0
}
